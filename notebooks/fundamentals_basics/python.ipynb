{
 "cells": [
  {
   "cell_type": "markdown",
   "metadata": {},
   "source": [
    "<img src=\"imgs/python.png\" width=\"400\">\n",
    "\n",
    "Python is a high level interpreted general purpose programming language. The notable points of python is the code readability with its notable use of significant indentation. Python was developed on the idea of ease of use and access\n",
    "\n",
    "### Fun Fact :-\n",
    "* **Python was a hobby project** : In December 1989, Python’s creator Guido Van Rossum was looking for a hobby project to keep him occupied in the week around Christmas. He had been thinking of writing a new scripting language that’d be a descendant of ABC and also appeal to Unix/C hackers. He chose to call it Python.\n",
    "* **The Zen Of Python** : There is actually a poem written by Tim Peters named as THE ZEN OF PYTHON which can be read by just writing import this in the interpreter."
   ]
  },
  {
   "cell_type": "code",
   "execution_count": 8,
   "metadata": {},
   "outputs": [
    {
     "data": {
      "text/plain": [
       "'3.6.4'"
      ]
     },
     "execution_count": 8,
     "metadata": {},
     "output_type": "execute_result"
    }
   ],
   "source": [
    "# Check the version of the python that you have\n",
    "import platform\n",
    "platform.python_version()"
   ]
  },
  {
   "cell_type": "markdown",
   "metadata": {},
   "source": [
    "### Data Types and Variables \n",
    "* **Numeric data types**&nbsp;: int, float, complex\n",
    "* **String data types**&emsp;&nbsp;&nbsp;: str\n",
    "* **Sequence types**&emsp;&emsp;&nbsp;: list, tuple, range\n",
    "* **Binary types**&emsp;&nbsp;&nbsp;&emsp;&emsp;&nbsp;: bytes, bytearray, memoryview\n",
    "* **Mapping data type**&nbsp;&nbsp;: dict\n",
    "* **Boolean type**&emsp;&nbsp;&emsp;&emsp;: bool\n",
    "* **Set data types**&emsp;&nbsp;&emsp;&nbsp;&nbsp;: set, frozenset\n",
    "\n",
    "Rules for creating variables in Python:\n",
    "1. Starting of the variable should always be a letter or an underscore character.\n",
    "2. The reserved words or keywords cannot be used as the names of variables.\n",
    "3. A variable name can only contain alpha-numeric characters and underscores - A-z, 0-9, and _ - No special charaters allowed.\n",
    "4. Variable names are case-sensitive - var, VAR and Var are three different variables."
   ]
  },
  {
   "cell_type": "code",
   "execution_count": 32,
   "metadata": {},
   "outputs": [
    {
     "name": "stdout",
     "output_type": "stream",
     "text": [
      "\u001b[32mVariable Value:- \u001b[0m 100 and \u001b[31mType is:- \u001b[0m <class 'int'>\n",
      "\n",
      "\u001b[32mVariable Value:- \u001b[0m 10.2345 and \u001b[31mType is:- \u001b[0m <class 'float'>\n",
      "\n",
      "\u001b[32mVariable Value:- \u001b[0m (100+3j) and \u001b[31mType is:- \u001b[0m <class 'complex'>\n"
     ]
    }
   ],
   "source": [
    "#create a variable with integer value.\n",
    "var_int = 100\n",
    "print(\"\\033[32m\" + \"Variable Value:- \" + \"\\033[0m\", var_int ,\"and \"+\n",
    "      \"\\033[31m\" + \"Type is:- \" + \"\\033[0m\", type(var_int), end=\"\\n\\n\")\n",
    "\n",
    "#create a variable with float value.\n",
    "var_float = 10.2345\n",
    "print(\"\\033[32m\" + \"Variable Value:- \" + \"\\033[0m\", var_float ,\"and \"+\n",
    "      \"\\033[31m\" + \"Type is:- \" + \"\\033[0m\", type(var_float), end=\"\\n\\n\")\n",
    "\n",
    "#create a variable with complex value.\n",
    "var_complex = 100+3j\n",
    "print(\"\\033[32m\" + \"Variable Value:- \" + \"\\033[0m\", var_complex ,\"and \"+\n",
    "      \"\\033[31m\" + \"Type is:- \" + \"\\033[0m\", type(var_complex))"
   ]
  },
  {
   "cell_type": "code",
   "execution_count": 33,
   "metadata": {},
   "outputs": [
    {
     "ename": "SyntaxError",
     "evalue": "invalid syntax (<ipython-input-33-2f0889f87eb1>, line 2)",
     "output_type": "error",
     "traceback": [
      "\u001b[1;36m  File \u001b[1;32m\"<ipython-input-33-2f0889f87eb1>\"\u001b[1;36m, line \u001b[1;32m2\u001b[0m\n\u001b[1;33m    for = 1\u001b[0m\n\u001b[1;37m        ^\u001b[0m\n\u001b[1;31mSyntaxError\u001b[0m\u001b[1;31m:\u001b[0m invalid syntax\n"
     ]
    }
   ],
   "source": [
    "# Cant use reserve words - It will throw a SyntaxError\n",
    "for = 1"
   ]
  },
  {
   "cell_type": "code",
   "execution_count": 34,
   "metadata": {},
   "outputs": [
    {
     "name": "stdout",
     "output_type": "stream",
     "text": [
      "\u001b[32mVariable Value:- \u001b[0m This is String and \u001b[31mType is:- \u001b[0m <class 'str'>\n"
     ]
    }
   ],
   "source": [
    "#create a variable with String value.\n",
    "var_str = \"This is String\"\n",
    "print(\"\\033[32m\" + \"Variable Value:- \" + \"\\033[0m\", var_str ,\"and \"+\n",
    "      \"\\033[31m\" + \"Type is:- \" + \"\\033[0m\", type(var_str))\n",
    "\n",
    "#create a variable with Boolean value.\n",
    "var_str = \"This is String\"\n",
    "print(\"\\033[32m\" + \"Variable Value:- \" + \"\\033[0m\", var_str ,\"and \"+\n",
    "      \"\\033[31m\" + \"Type is:- \" + \"\\033[0m\", type(var_str))"
   ]
  },
  {
   "cell_type": "markdown",
   "metadata": {},
   "source": [
    "Some operations on the variables:-\n",
    "1. Arithematic Operation \n",
    "2. String Operations"
   ]
  },
  {
   "cell_type": "code",
   "execution_count": 35,
   "metadata": {},
   "outputs": [
    {
     "name": "stdout",
     "output_type": "stream",
     "text": [
      "The value of a + b is  110\n",
      "Value of a*b is  1000\n"
     ]
    }
   ],
   "source": [
    "# Add 2 numbers.\n",
    "a = 100\n",
    "b = 10\n",
    "c = a + b\n",
    "print(\"The value of a + b is \", c)\n",
    "\n",
    "# Multiply 2 Numbers.\n",
    "d = a*b\n",
    "print(\"Value of a*b is \", d)"
   ]
  },
  {
   "cell_type": "code",
   "execution_count": 36,
   "metadata": {},
   "outputs": [
    {
     "name": "stdout",
     "output_type": "stream",
     "text": [
      "This is python tutorial\n"
     ]
    }
   ],
   "source": [
    "# Concatenation of 2 strings\n",
    "a = \"This is \"\n",
    "b = \"python tutorial\"\n",
    "print(a + b)"
   ]
  },
  {
   "cell_type": "markdown",
   "metadata": {},
   "source": [
    "### Lists \n",
    "Lists are used to store multiple items in a single variable. Python lista are a very versatile python container which allows to store different kind of variables/data types in the same variable. Some of the good points about lists are:-\n",
    "* Ordered\n",
    "* Mutable (changeable) collection\n",
    "\n",
    "Below is a mixed type of list (Integer and string values):-"
   ]
  },
  {
   "cell_type": "code",
   "execution_count": 51,
   "metadata": {},
   "outputs": [
    {
     "name": "stdout",
     "output_type": "stream",
     "text": [
      "[34, 'hi', 1, 'hello, world', 2]\n"
     ]
    }
   ],
   "source": [
    "mixed_list = [34, \"hi\", 1, \"hello, world\", 2]\n",
    "print(mixed_list)"
   ]
  },
  {
   "cell_type": "code",
   "execution_count": 52,
   "metadata": {},
   "outputs": [
    {
     "name": "stdout",
     "output_type": "stream",
     "text": [
      "[34, 'hi', 1, 'hello, world', 2, 3, 4, 'Appending']\n"
     ]
    }
   ],
   "source": [
    "# Appending a new list to the old list\n",
    "y = [3, 4, \"Appending\"]\n",
    "print(mixed_list + y)"
   ]
  },
  {
   "cell_type": "markdown",
   "metadata": {},
   "source": [
    "Some operations on lists and inbuilt list methods:-\n",
    "\n",
    "<span style=\"background:#CCFF90;\">🔥💬 <b>Note</b> :- Some of the list methods only work with list which contains same data type.</span> "
   ]
  },
  {
   "cell_type": "code",
   "execution_count": 56,
   "metadata": {},
   "outputs": [
    {
     "name": "stdout",
     "output_type": "stream",
     "text": [
      "The sorted list is :  [1, 2, 3, 4, 5]\n",
      "\n",
      "the reversed list is :  [5, 4, 3, 2, 1]\n",
      "\n",
      "After adding element 6 :  [5, 4, 3, 2, 1, 6]\n",
      "\n",
      "Index of 3 in the list is 5\n"
     ]
    }
   ],
   "source": [
    "x = [5, 4, 1, 2, 3]\n",
    "\n",
    "# Sorting the list\n",
    "x.sort()\n",
    "print(\"The sorted list is : \", x, end = \"\\n\\n\")\n",
    "\n",
    "# Reversing the List\n",
    "x.reverse()\n",
    "print(\"the reversed list is : \", x, end = \"\\n\\n\")\n",
    "\n",
    "# Appending and element to the list\n",
    "x.append(6)\n",
    "print(\"After adding element 6 : \", x, end = \"\\n\\n\")\n",
    "\n",
    "# Finding the index on an existing element\n",
    "idx = x.index(6)\n",
    "print(f\"Index of 3 in the list is {idx}\")"
   ]
  },
  {
   "cell_type": "markdown",
   "metadata": {},
   "source": [
    "<span style=\"background:#CCFF90;\">🔥💬 <b>Note</b> :- If you want the array, then you can import the array module which has a proper implementation of array.</span> "
   ]
  },
  {
   "cell_type": "code",
   "execution_count": 57,
   "metadata": {},
   "outputs": [
    {
     "name": "stdout",
     "output_type": "stream",
     "text": [
      "The new created array is :  array('i', [1, 2, 3])\n"
     ]
    }
   ],
   "source": [
    "import array as arr\n",
    "  \n",
    "# Creating an array with integer type\n",
    "a = arr.array('i', [1, 2, 3])\n",
    "  \n",
    "# Print the original array\n",
    "print (\"The new created array is : \", a)"
   ]
  },
  {
   "cell_type": "markdown",
   "metadata": {},
   "source": [
    "### Tuples\n",
    "Tuples belong to the same family as lists. It is a python container used to store values of various kinds within the same variable. the major difference between lists and tuples is that the tuple is immutable (Unchangable)."
   ]
  },
  {
   "cell_type": "code",
   "execution_count": 6,
   "metadata": {},
   "outputs": [
    {
     "name": "stdout",
     "output_type": "stream",
     "text": [
      "(1, 2, '123')\n"
     ]
    }
   ],
   "source": [
    "# Tuple creation of int and string\n",
    "tuple_ex1 = (1,2,\"123\")\n",
    "print(tuple_ex1)"
   ]
  },
  {
   "cell_type": "code",
   "execution_count": 9,
   "metadata": {},
   "outputs": [
    {
     "ename": "TypeError",
     "evalue": "'tuple' object does not support item assignment",
     "output_type": "error",
     "traceback": [
      "\u001b[1;31m---------------------------------------------------------------------------\u001b[0m",
      "\u001b[1;31mTypeError\u001b[0m                                 Traceback (most recent call last)",
      "\u001b[1;32m<ipython-input-9-d5cf2e0be21c>\u001b[0m in \u001b[0;36m<module>\u001b[1;34m()\u001b[0m\n\u001b[0;32m      1\u001b[0m \u001b[1;31m# immutable means that it wil throw error when we try to change the value of a variable\u001b[0m\u001b[1;33m\u001b[0m\u001b[1;33m\u001b[0m\u001b[0m\n\u001b[1;32m----> 2\u001b[1;33m \u001b[0mtuple_ex1\u001b[0m\u001b[1;33m[\u001b[0m\u001b[1;36m1\u001b[0m\u001b[1;33m]\u001b[0m \u001b[1;33m=\u001b[0m \u001b[1;36m1000\u001b[0m\u001b[1;33m\u001b[0m\u001b[0m\n\u001b[0m",
      "\u001b[1;31mTypeError\u001b[0m: 'tuple' object does not support item assignment"
     ]
    }
   ],
   "source": [
    "# immutable means that it wil throw error when we try to change the value of a variable\n",
    "tuple_ex1[1] = 1000"
   ]
  },
  {
   "cell_type": "code",
   "execution_count": 10,
   "metadata": {},
   "outputs": [
    {
     "name": "stdout",
     "output_type": "stream",
     "text": [
      "(1, 2, '123', '456', 7, 8)\n"
     ]
    }
   ],
   "source": [
    "# In the same way we extend the list, same can be done for tuples\n",
    "tuple_ex2 = (\"456\", 7, 8)\n",
    "print(tuple_ex1 + tuple_ex2)"
   ]
  },
  {
   "cell_type": "markdown",
   "metadata": {},
   "source": [
    "### Dictionary\n",
    "Its a mutable, very versatile and special type of python containers which stores the value in a document type object in a key-value pair. So in short, you can think of a single dictionary variable/object as a document which stores various key-value pairs - again value being any kind of data type."
   ]
  },
  {
   "cell_type": "code",
   "execution_count": 11,
   "metadata": {},
   "outputs": [
    {
     "name": "stdout",
     "output_type": "stream",
     "text": [
      "123\n",
      "Value 1\n",
      "{'var1': 'Value 1', 2: 123}\n"
     ]
    }
   ],
   "source": [
    "# Creating a simple dictionary\n",
    "dict_ex1 = {\"var1\" : \"Value 1\",\n",
    "           2 : 123}\n",
    "print(dict_ex1[2])\n",
    "print(dict_ex1[\"var1\"])\n",
    "print(dict_ex1)"
   ]
  },
  {
   "cell_type": "code",
   "execution_count": 13,
   "metadata": {},
   "outputs": [
    {
     "name": "stdout",
     "output_type": "stream",
     "text": [
      "{'var1': 'Value 1', 2: 'New Value', 'new_ex': 1000}\n"
     ]
    }
   ],
   "source": [
    "# Changing the value of a key-value pair\n",
    "dict_ex1[2] = \"New Value\"\n",
    "\n",
    "# Adding more key-value pairs\n",
    "dict_ex1[\"new_ex\"] = 1000\n",
    "print(dict_ex1)"
   ]
  },
  {
   "cell_type": "markdown",
   "metadata": {},
   "source": [
    "### Indexing and Slicing\n",
    "It is a way of accessing a specific value in a particular python container variable. While slicing is a technique unique to lists which allows us to access a particular range of indexes.\n",
    "<center><img src=\"imgs/indexing.png\" width=\"400\" height=\"400\"></center>\n",
    "\n",
    "As depicted above to access a element in a list or a tuple we can use positive indexing or negative indexing."
   ]
  },
  {
   "cell_type": "code",
   "execution_count": 17,
   "metadata": {},
   "outputs": [
    {
     "name": "stdout",
     "output_type": "stream",
     "text": [
      "Element at index 0 is :  1\n",
      "Element at index 9 is :  10\n",
      "Element at index -1 is :  10\n",
      "Element at index -4 is :  7\n"
     ]
    }
   ],
   "source": [
    "indexing_list = [1, 2, 3, 4, 5, 6, 7, 8, 9, 10]\n",
    "print(\"Element at index 0 is : \", indexing_list[0])\n",
    "print(\"Element at index 9 is : \", indexing_list[9])\n",
    "print(\"Element at index -1 is : \", indexing_list[-1])\n",
    "print(\"Element at index -4 is : \", indexing_list[-4])"
   ]
  },
  {
   "cell_type": "code",
   "execution_count": 19,
   "metadata": {},
   "outputs": [
    {
     "name": "stdout",
     "output_type": "stream",
     "text": [
      "[2, 3, 4, 5]\n",
      "[1, 2, 3]\n",
      "[9, 10]\n",
      "[8, 9]\n"
     ]
    }
   ],
   "source": [
    "# list slicing\n",
    "print(indexing_list[1:5]) # Accessing element from index 1 through 5 (5 not included)\n",
    "print(indexing_list[:3]) # Accessing element from index 0 through 3 (3 not included)\n",
    "print(indexing_list[-2:]) # Accessing last and second last element\n",
    "print(indexing_list[-3:-1]) # Accessing last 3 elements (last not included)"
   ]
  },
  {
   "cell_type": "markdown",
   "metadata": {},
   "source": [
    "### Conditional Operator\n",
    "* If Operator \n",
    "* Python ternary operator"
   ]
  },
  {
   "cell_type": "code",
   "execution_count": 23,
   "metadata": {},
   "outputs": [
    {
     "name": "stdout",
     "output_type": "stream",
     "text": [
      "Number divisible by 5\n"
     ]
    }
   ],
   "source": [
    "# Simple if-else conditional statement\n",
    "int_val = 5\n",
    "if int_val % 5 == 0:\n",
    "    print(\"Number divisible by 5\")\n",
    "else:\n",
    "    print(\"Number NOT divisible by 5\")"
   ]
  },
  {
   "cell_type": "code",
   "execution_count": 24,
   "metadata": {},
   "outputs": [
    {
     "name": "stdout",
     "output_type": "stream",
     "text": [
      "Number equal to 5\n"
     ]
    }
   ],
   "source": [
    "# Multi-Conditioned if-else statement\n",
    "if int_val < 5:\n",
    "    print(\"Number less than 5\")\n",
    "elif int_val == 5: # More s\n",
    "    print(\"Number equal to 5\")\n",
    "else:\n",
    "    print(\"Number Greater than 5\")"
   ]
  },
  {
   "cell_type": "code",
   "execution_count": 28,
   "metadata": {},
   "outputs": [
    {
     "data": {
      "text/plain": [
       "'<expr1>'"
      ]
     },
     "execution_count": 28,
     "metadata": {},
     "output_type": "execute_result"
    }
   ],
   "source": [
    "'''\n",
    "The python ternary operator looks more like a single line python if else statement\n",
    "<expr1> if <conditional_expr> else <expr2>\n",
    "    expr1 will come as an output when the condition is true\n",
    "    expr2 will come as an output when the condition is false\n",
    "'''\n",
    "\n",
    "\"<expr1>\" if int_val == 5 else \"<expr2>\""
   ]
  },
  {
   "cell_type": "markdown",
   "metadata": {},
   "source": [
    "### Loops\n",
    "#### For loop"
   ]
  },
  {
   "cell_type": "code",
   "execution_count": 27,
   "metadata": {},
   "outputs": [
    {
     "name": "stdout",
     "output_type": "stream",
     "text": [
      "1\n",
      "2\n",
      "3\n",
      "4\n"
     ]
    }
   ],
   "source": [
    "# Simple for loop with range method which generates a sequence of numbers\n",
    "for item in range(1,5):\n",
    "    print(item)"
   ]
  },
  {
   "cell_type": "code",
   "execution_count": 31,
   "metadata": {},
   "outputs": [
    {
     "name": "stdout",
     "output_type": "stream",
     "text": [
      "[0, 1, 2, 3, 4]\n"
     ]
    }
   ],
   "source": [
    "# List Comprehension - Basically single line for loop\n",
    "li = [item for item in range(5)]\n",
    "print(li)"
   ]
  },
  {
   "cell_type": "code",
   "execution_count": 37,
   "metadata": {},
   "outputs": [
    {
     "name": "stdout",
     "output_type": "stream",
     "text": [
      "1\n",
      "2\n"
     ]
    }
   ],
   "source": [
    "# The break keyword stops the flow of the loop and terminates it immediately\n",
    "for item in range(1, 5):\n",
    "    if item == 3:\n",
    "        break\n",
    "    print(item)\n",
    "        "
   ]
  },
  {
   "cell_type": "code",
   "execution_count": 38,
   "metadata": {},
   "outputs": [
    {
     "name": "stdout",
     "output_type": "stream",
     "text": [
      "1\n",
      "2\n",
      "4\n"
     ]
    }
   ],
   "source": [
    "# on the other hand the continue keyword will keep the flow going and skip other work/statements in the loop for thet element/item\n",
    "for item in range(1, 5):\n",
    "    if item == 3:\n",
    "        continue\n",
    "    print(item)"
   ]
  },
  {
   "cell_type": "markdown",
   "metadata": {},
   "source": [
    "#### While Loop\n",
    "While is another kind of a loop iterator of python which keeps the loop till the condition(s) specified is(are) true. Unlike the for loop the while loop does not provide a range of value for the loop to run till."
   ]
  },
  {
   "cell_type": "code",
   "execution_count": null,
   "metadata": {},
   "outputs": [],
   "source": [
    "while "
   ]
  },
  {
   "cell_type": "markdown",
   "metadata": {},
   "source": [
    "### Functions"
   ]
  },
  {
   "cell_type": "code",
   "execution_count": null,
   "metadata": {},
   "outputs": [],
   "source": []
  },
  {
   "cell_type": "markdown",
   "metadata": {},
   "source": [
    "### Decorators"
   ]
  },
  {
   "cell_type": "markdown",
   "metadata": {},
   "source": [
    "### Class"
   ]
  },
  {
   "cell_type": "markdown",
   "metadata": {},
   "source": [
    "### Imports"
   ]
  },
  {
   "cell_type": "markdown",
   "metadata": {},
   "source": [
    "### Other Information about Python\n",
    "Why is python preferred language in AI/DS world ?\n",
    "\n",
    "Alternatives to python\n"
   ]
  },
  {
   "cell_type": "code",
   "execution_count": 2,
   "metadata": {},
   "outputs": [],
   "source": [
    "from IPython.display import HTML, display\n",
    "\n",
    "def set_background(color):    \n",
    "    script = (\n",
    "        \"var cell = this.closest('.jp-CodeCell');\"\n",
    "        \"var editor = cell.querySelector('.jp-Editor');\"\n",
    "        \"editor.style.background='{}';\"\n",
    "        \"this.parentNode.removeChild(this)\"\n",
    "    ).format(color)\n",
    "    \n",
    "    display(HTML('<img src onerror=\"{}\" style=\"display:none\">'.format(script)))"
   ]
  },
  {
   "cell_type": "code",
   "execution_count": 3,
   "metadata": {},
   "outputs": [
    {
     "data": {
      "text/html": [
       "<img src onerror=\"var cell = this.closest('.jp-CodeCell');var editor = cell.querySelector('.jp-Editor');editor.style.background='honeydew';this.parentNode.removeChild(this)\" style=\"display:none\">"
      ],
      "text/plain": [
       "<IPython.core.display.HTML object>"
      ]
     },
     "metadata": {},
     "output_type": "display_data"
    }
   ],
   "source": [
    "set_background('honeydew')"
   ]
  }
 ],
 "metadata": {
  "kernelspec": {
   "display_name": "Python 3",
   "language": "python",
   "name": "python3"
  },
  "language_info": {
   "codemirror_mode": {
    "name": "ipython",
    "version": 3
   },
   "file_extension": ".py",
   "mimetype": "text/x-python",
   "name": "python",
   "nbconvert_exporter": "python",
   "pygments_lexer": "ipython3",
   "version": "3.6.4"
  }
 },
 "nbformat": 4,
 "nbformat_minor": 2
}
