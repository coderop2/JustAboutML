{
 "cells": [
  {
   "cell_type": "markdown",
   "metadata": {},
   "source": [
    "# Data Science\n",
    "\n",
    "In today's life data science field has become one of the most important streamlined field of study, where advances are being everyday. Innovations ranging from Speech recognition to Early detection of various Diseases to self driving cars (which are literally on the horizon) are making unprecedented advances.\n",
    "\n",
    "Data science is the mining, collecting, analyzing, managing, and storing data to help make data driven decisions in e-commerce, finance, government, healthcare, science, social networking, telecommunications, politics, utilities, smart meters, education, aerospace, etc. By collecting, analyzing, managing, and storing data, businesses can run more efficiently and make data-driven business decisions.\n",
    "\n",
    "Data Science is shaping the future. According to the U.S. Bureau of Labor Statistics Report, by 2026, there will be 11.5 million job openings in the field of Data Science. According to Dr. Martin Schedlbauer, a Data Science Professor at Northeastern University, “data science careers are in high demand and this trend will not be slowing down any time soon, if ever.”\n",
    "\n",
    "<center><img src=\"imgs/packages.png\" height=\"400\" width=\"400\"></center>"
   ]
  },
  {
   "cell_type": "markdown",
   "metadata": {},
   "source": [
    "### Who is the field for ?\n",
    "Anybody and everybody thats who this field is for. Some of the best kagglers are high school students and some of the best Data Scientists are from various backgrounds like Physics, Biology etc. Definitely having a understanding of whats going on under the hood of each algorithm will make you a better programmer similary understanding the maths behind machine learning and Deel Learning will help you implementing thme better."
   ]
  },
  {
   "cell_type": "markdown",
   "metadata": {},
   "source": [
    "# Set Up \n",
    "## Local Set Up \n",
    "If you have a powerful Laptop or Desktop then you are all set and there is not need to buy into the cloud universe, where you have to keep in mind the consumption of the resourses you are taking up, as there are various vendors who bill according to the resourses consumed (Most popular ex is AWS - Although they provide the EC2 for free).\n",
    "\n",
    "Moving on, in order to do some light machine learning tasks (not including deep learning) then a simple machine with fews softwares installed would be enough to get you up and running in no time. These softwares are:\n",
    "* Your choice of Language - Python and R\n",
    "* Jupyter Lab/Jupyter Notebook or RStudio\n",
    "* Anaconda (Not the animal ha)/Miniconda\n",
    "* pip(python specific) and conda(anaconda specific) - python package installers\n",
    "\n",
    "### So you ask what is anaconda ?\n",
    "Anaconda is according to its creators and i quote - \"The birthplace of data science\". Well, i wont call it the birthplace of Data Science but its definitely the the go to platform/software for all the people who are involved in this vast world of data like if you have a local set up then you would definitely have a anaconda product in your machine. \n",
    "Now even the great Anaconda has a few variations:-\n",
    "* The whole bulky package called Anaconda\n",
    "* The little brother which has much less packages and lighter called Miniconda\n",
    "\n",
    "As can be seen from the following pic:-\n",
    "\n",
    "<center><img src=\"imgs/anaconda.jpg\" height=\"400\" width=\"400\"></center>\n",
    "\n",
    "**Note** :- If you are trying to install python packages and jupyter notebook in M1 macbook please use miniforge, its very helpful\n",
    "\n",
    "Now, in order to do a deep learning set up you need to have a Nvidia GPU. Please note that some very shallow deep nets can be run on CPU but as the load on the deep nets start increasing and the depth/nodes start increasing in the nets the load on the CPU also starts increasing exponentially. Now one question might pop up in your mind :-\n",
    "\n",
    "### Why do we need GPU for deep learning when we have CPU ?\n",
    "GPUs are pieces of hardware which are optimized for training artificial intelligence and deep learning models because of the following capabilities of the GPU:-\n",
    "* Data parallelism\n",
    "* Memory usage\n",
    "* Performance of the GPU over CPU\n",
    "\n",
    "<center><img src=\"imgs/gpuvscpu.webp\" height=\"400\" width=\"400\"><a href=\"https://www.slideshare.net/AlessioVillardita/ca-1st-presentation-final-published\" style=\"text-align:center;\">[Source]</a></center>"
   ]
  },
  {
   "cell_type": "markdown",
   "metadata": {},
   "source": [
    "# Cloud Set up\n",
    "A good high-performance GPU comes with a price tag which can go even up to \\$20,000++ for a single NVIDIA Tesla V100 32GB GPU which has server-like compute capabilities. Furthermore nowadays, a consumer laptop with a decent GPU would cost around \\$2,000 which has a dedicated GPU like the latest RTX series. So inorder to tackle the momey problem as well as the pain to set up the hardware, various companies provides an option for High-compute systems for free and paid services. Some of the leading companies are:-\n",
    "\n",
    "1. **Google Colaboratory** - Also known as google Colab has both free and paid options, which is available to anyone with a google acct. The paid option is superior to the free option in the way that it allows the session created to be run for around 24hrs as compared to 12hrs in the free verse. Also in Colab Pro you get the highest GPUs available on priority. [Link](https://colab.research.google.com/)\n",
    "2. **Kaggle** - One of the best platforms to learn and implement your knowledge. Kaggle provides 32-40hrs per week of GPU usage. You can register for free and start using it. [Link](https://www.kaggle.com/)\n",
    "3. **Binder** - No account needs to be created for use of Binder. A online jupyter notebook platform to develop and share your work. Although no GPU support is there yet. [Link](https://mybinder.org/)\n",
    "4. **Microsoft Azure Notebooks** - First sign in with a Microsoft or Outlook account then proceed to creating a  \"project\", which is structured identically to a GitHub repository. You will have access to 4 GB of RAM and 1 GB of disk space (per project). Sessions will shut down after 60 minutes of inactivity, though they can run for 8 hours or longer. [Link](https://notebooks.azure.com/)"
   ]
  },
  {
   "cell_type": "code",
   "execution_count": null,
   "metadata": {},
   "outputs": [],
   "source": []
  }
 ],
 "metadata": {
  "kernelspec": {
   "display_name": "Python 3",
   "language": "python",
   "name": "python3"
  },
  "language_info": {
   "codemirror_mode": {
    "name": "ipython",
    "version": 3
   },
   "file_extension": ".py",
   "mimetype": "text/x-python",
   "name": "python",
   "nbconvert_exporter": "python",
   "pygments_lexer": "ipython3",
   "version": "3.6.4"
  }
 },
 "nbformat": 4,
 "nbformat_minor": 2
}
